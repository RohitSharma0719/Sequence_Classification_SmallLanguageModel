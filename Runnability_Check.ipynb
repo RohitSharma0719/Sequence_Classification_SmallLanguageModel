{
  "nbformat": 4,
  "nbformat_minor": 0,
  "metadata": {
    "colab": {
      "provenance": [],
      "gpuType": "T4"
    },
    "kernelspec": {
      "name": "python3",
      "display_name": "Python 3"
    },
    "language_info": {
      "name": "python"
    },
    "accelerator": "GPU"
  },
  "cells": [
    {
      "cell_type": "code",
      "source": [
        "# Please use transformers library version 4.30.2\n",
        "# Make sure your model is runnable on the below code before submitting into the portal\n",
        "# The portal with accepts files with the following extentions: \".safetensors\", \".json\" & \".txt\""
      ],
      "metadata": {
        "id": "v5uYheOuHTr2"
      },
      "execution_count": null,
      "outputs": []
    },
    {
      "cell_type": "code",
      "source": [
        "from google.colab import drive\n",
        "drive.mount('/content/drive')"
      ],
      "metadata": {
        "colab": {
          "base_uri": "https://localhost:8080/"
        },
        "id": "djbFL7ylDwNJ",
        "outputId": "5aad3054-9eb9-48b1-f7f6-10b289187313"
      },
      "execution_count": null,
      "outputs": [
        {
          "output_type": "stream",
          "name": "stdout",
          "text": [
            "Drive already mounted at /content/drive; to attempt to forcibly remount, call drive.mount(\"/content/drive\", force_remount=True).\n"
          ]
        }
      ]
    },
    {
      "cell_type": "code",
      "execution_count": null,
      "metadata": {
        "id": "SAKXGBMMFkvL"
      },
      "outputs": [],
      "source": [
        "from transformers import AutoModelForQuestionAnswering\n",
        "from transformers import AutoModelForSequenceClassification\n",
        "from transformers import AutoModel\n",
        "from transformers import AutoTokenizer\n",
        "from transformers import pipeline\n",
        "import pandas as pd"
      ]
    },
    {
      "cell_type": "code",
      "source": [
        "# Replace <Model Directory> with the path to the model folder\n",
        "\n",
        "text_classifier = pipeline(\"text-classification\", model=\"/content/drive/MyDrive/MLDS_Trained_Model/test/\")\n",
        "submission = pd.DataFrame(columns = ['answer'])\n",
        "\n",
        "print(text_classifier(\"I am well!\")[0].get('label'))"
      ],
      "metadata": {
        "id": "sv3vqxIIHBqf",
        "colab": {
          "base_uri": "https://localhost:8080/"
        },
        "outputId": "767906dd-18ac-42f4-839a-e8e057bdf420"
      },
      "execution_count": null,
      "outputs": [
        {
          "output_type": "stream",
          "name": "stderr",
          "text": [
            "Device set to use cuda:0\n"
          ]
        },
        {
          "output_type": "stream",
          "name": "stdout",
          "text": [
            "LABEL_9\n"
          ]
        }
      ]
    },
    {
      "cell_type": "code",
      "source": [],
      "metadata": {
        "id": "qjVR3lpOHhpk"
      },
      "execution_count": null,
      "outputs": []
    }
  ]
}